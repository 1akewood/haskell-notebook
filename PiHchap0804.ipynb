{
 "cells": [
  {
   "cell_type": "markdown",
   "metadata": {},
   "source": [
    "## 8.4 Recursive types"
   ]
  },
  {
   "cell_type": "markdown",
   "metadata": {},
   "source": [
    "다른 언어에서 나열형(enum)"
   ]
  },
  {
   "cell_type": "code",
   "execution_count": 7,
   "metadata": {},
   "outputs": [],
   "source": [
    "data Color = Red | Blue | Green\n",
    "  deriving Show"
   ]
  },
  {
   "cell_type": "markdown",
   "metadata": {},
   "source": [
    "데이터 생성자가 추가 정보를 갖고 있는 경우"
   ]
  },
  {
   "cell_type": "code",
   "execution_count": 4,
   "metadata": {},
   "outputs": [],
   "source": [
    "data Shape \n",
    "  = Circle Float \n",
    "  | Rect Float Float"
   ]
  },
  {
   "cell_type": "code",
   "execution_count": 5,
   "metadata": {},
   "outputs": [
    {
     "data": {},
     "metadata": {},
     "output_type": "display_data"
    },
    {
     "data": {
      "text/html": [
       "<div style='background: rgb(247, 247, 247);'><form><textarea id='code'>data Bool = False | True \t-- Defined in ‘GHC.Types’\n",
       "instance Show Bool -- Defined in ‘GHC.Show’\n",
       "instance Enum Bool -- Defined in ‘GHC.Enum’\n",
       "instance Eq Bool -- Defined in ‘GHC.Classes’\n",
       "instance Ord Bool -- Defined in ‘GHC.Classes’\n",
       "instance Read Bool -- Defined in ‘GHC.Read’\n",
       "instance Bounded Bool -- Defined in ‘GHC.Enum’\n",
       "</textarea></form></div><script>CodeMirror.fromTextArea(document.getElementById('code'), {mode: 'haskell', readOnly: 'nocursor'});</script>"
      ],
      "text/plain": [
       "data Bool = False | True \t-- Defined in ‘GHC.Types’\n",
       "instance Show Bool -- Defined in ‘GHC.Show’\n",
       "instance Enum Bool -- Defined in ‘GHC.Enum’\n",
       "instance Eq Bool -- Defined in ‘GHC.Classes’\n",
       "instance Ord Bool -- Defined in ‘GHC.Classes’\n",
       "instance Read Bool -- Defined in ‘GHC.Read’\n",
       "instance Bounded Bool -- Defined in ‘GHC.Enum’"
      ]
     },
     "metadata": {},
     "output_type": "display_data"
    }
   ],
   "source": [
    ":info Bool"
   ]
  },
  {
   "cell_type": "code",
   "execution_count": 8,
   "metadata": {},
   "outputs": [
    {
     "data": {
      "text/plain": [
       "Red"
      ]
     },
     "metadata": {},
     "output_type": "display_data"
    }
   ],
   "source": [
    "Red"
   ]
  },
  {
   "cell_type": "code",
   "execution_count": 9,
   "metadata": {},
   "outputs": [
    {
     "data": {
      "text/plain": [
       "Blue"
      ]
     },
     "metadata": {},
     "output_type": "display_data"
    }
   ],
   "source": [
    "Blue"
   ]
  },
  {
   "cell_type": "code",
   "execution_count": 10,
   "metadata": {},
   "outputs": [
    {
     "data": {},
     "metadata": {},
     "output_type": "display_data"
    },
    {
     "data": {
      "text/html": [
       "<div style='background: rgb(247, 247, 247);'><form><textarea id='code'>data Color = Red | Blue | Green \t-- Defined at <interactive>:1:1\n",
       "instance [safe] Show Color -- Defined at <interactive>:2:12\n",
       "</textarea></form></div><script>CodeMirror.fromTextArea(document.getElementById('code'), {mode: 'haskell', readOnly: 'nocursor'});</script>"
      ],
      "text/plain": [
       "data Color = Red | Blue | Green \t-- Defined at <interactive>:1:1\n",
       "instance [safe] Show Color -- Defined at <interactive>:2:12"
      ]
     },
     "metadata": {},
     "output_type": "display_data"
    }
   ],
   "source": [
    ":info Color"
   ]
  },
  {
   "cell_type": "code",
   "execution_count": null,
   "metadata": {},
   "outputs": [],
   "source": []
  }
 ],
 "metadata": {
  "kernelspec": {
   "display_name": "Haskell",
   "language": "haskell",
   "name": "haskell"
  },
  "language_info": {
   "codemirror_mode": "Haskell",
   "file_extension": ".hs",
   "mimetype": "text/x-haskell",
   "name": "haskell",
   "pygments_lexer": "Haskell",
   "version": "8.8.4"
  }
 },
 "nbformat": 4,
 "nbformat_minor": 4
}
