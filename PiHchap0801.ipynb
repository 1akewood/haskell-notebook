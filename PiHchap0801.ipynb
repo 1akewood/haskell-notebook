{
 "cells": [
  {
   "cell_type": "markdown",
   "metadata": {},
   "source": [
    "## 8. Declaring types and classes"
   ]
  },
  {
   "cell_type": "markdown",
   "metadata": {},
   "source": [
    "#### 8.1 Type declarations\n",
    "\n",
    "새로운 것을 정의하는 것이 아닌 기존에 표현할 수 있는 타입에 다른 이름 또는 별명(synonym)을 붙일 때  \n",
    "`type` 키워드를 사용한다. (C에서의 typedef와 비슷함)"
   ]
  },
  {
   "cell_type": "markdown",
   "metadata": {},
   "source": [
    "이미 String이라는 [Char]타입의 별명을 접해 보았다.\n",
    "\n",
    "type String = [Char]\n",
    "\n",
    "이렇게 표준 라이브러리에 정의되어 있음"
   ]
  },
  {
   "cell_type": "code",
   "execution_count": 74,
   "metadata": {},
   "outputs": [
    {
     "data": {},
     "metadata": {},
     "output_type": "display_data"
    },
    {
     "data": {
      "text/html": [
       "<div style='background: rgb(247, 247, 247);'><form><textarea id='code'>type String = [Char] \t-- Defined in ‘GHC.Base’\n",
       "</textarea></form></div><script>CodeMirror.fromTextArea(document.getElementById('code'), {mode: 'haskell', readOnly: 'nocursor'});</script>"
      ],
      "text/plain": [
       "type String = [Char] \t-- Defined in ‘GHC.Base’"
      ]
     },
     "metadata": {},
     "output_type": "display_data"
    }
   ],
   "source": [
    ":info String"
   ]
  },
  {
   "cell_type": "markdown",
   "metadata": {},
   "source": [
    "이차원 정수 좌표  \n",
    "type Pos = (Int,Int)  \n",
    "이차원 정수 좌표 변환  \n",
    "type Trans = Pos -> Pos  "
   ]
  },
  {
   "cell_type": "code",
   "execution_count": 75,
   "metadata": {},
   "outputs": [],
   "source": [
    "type Pos = Pair Int -- (Int,Int)\n",
    "type Trans = Pos -> Pos"
   ]
  },
  {
   "cell_type": "code",
   "execution_count": 76,
   "metadata": {},
   "outputs": [],
   "source": [
    "-- 이차원 정수 좌표 pos1과 pos2\n",
    "pos1, pos2 :: (Int, Int)\n",
    "pos1 = (3,4)\n",
    "pos2 = scale 2 pos1"
   ]
  },
  {
   "cell_type": "code",
   "execution_count": 77,
   "metadata": {},
   "outputs": [],
   "source": [
    "-- 원점 기준 k배 확대 변환 함수\n",
    "scale :: Int -> Trans\n",
    "scale k (x,y) = (k*x, k*y) -- 하스켈은 순서에 상관없이 정의 가능"
   ]
  },
  {
   "cell_type": "code",
   "execution_count": 78,
   "metadata": {},
   "outputs": [
    {
     "data": {
      "text/plain": [
       "(6,8)"
      ]
     },
     "metadata": {},
     "output_type": "display_data"
    }
   ],
   "source": [
    "scale 2 pos1"
   ]
  },
  {
   "cell_type": "code",
   "execution_count": 79,
   "metadata": {},
   "outputs": [
    {
     "data": {
      "text/html": [
       "<style>/* Styles used for the Hoogle display in the pager */\n",
       ".hoogle-doc {\n",
       "display: block;\n",
       "padding-bottom: 1.3em;\n",
       "padding-left: 0.4em;\n",
       "}\n",
       ".hoogle-code {\n",
       "display: block;\n",
       "font-family: monospace;\n",
       "white-space: pre;\n",
       "}\n",
       ".hoogle-text {\n",
       "display: block;\n",
       "}\n",
       ".hoogle-name {\n",
       "color: green;\n",
       "font-weight: bold;\n",
       "}\n",
       ".hoogle-head {\n",
       "font-weight: bold;\n",
       "}\n",
       ".hoogle-sub {\n",
       "display: block;\n",
       "margin-left: 0.4em;\n",
       "}\n",
       ".hoogle-package {\n",
       "font-weight: bold;\n",
       "font-style: italic;\n",
       "}\n",
       ".hoogle-module {\n",
       "font-weight: bold;\n",
       "}\n",
       ".hoogle-class {\n",
       "font-weight: bold;\n",
       "}\n",
       ".get-type {\n",
       "color: green;\n",
       "font-weight: bold;\n",
       "font-family: monospace;\n",
       "display: block;\n",
       "white-space: pre-wrap;\n",
       "}\n",
       ".show-type {\n",
       "color: green;\n",
       "font-weight: bold;\n",
       "font-family: monospace;\n",
       "margin-left: 1em;\n",
       "}\n",
       ".mono {\n",
       "font-family: monospace;\n",
       "display: block;\n",
       "}\n",
       ".err-msg {\n",
       "color: red;\n",
       "font-style: italic;\n",
       "font-family: monospace;\n",
       "white-space: pre;\n",
       "display: block;\n",
       "}\n",
       "#unshowable {\n",
       "color: red;\n",
       "font-weight: bold;\n",
       "}\n",
       ".err-msg.in.collapse {\n",
       "padding-top: 0.7em;\n",
       "}\n",
       ".highlight-code {\n",
       "white-space: pre;\n",
       "font-family: monospace;\n",
       "}\n",
       ".suggestion-warning { \n",
       "font-weight: bold;\n",
       "color: rgb(200, 130, 0);\n",
       "}\n",
       ".suggestion-error { \n",
       "font-weight: bold;\n",
       "color: red;\n",
       "}\n",
       ".suggestion-name {\n",
       "font-weight: bold;\n",
       "}\n",
       "</style><span class='get-type'>pos1 :: (Int, Int)</span>"
      ],
      "text/plain": [
       "pos1 :: (Int, Int)"
      ]
     },
     "metadata": {},
     "output_type": "display_data"
    },
    {
     "data": {
      "text/html": [
       "<style>/* Styles used for the Hoogle display in the pager */\n",
       ".hoogle-doc {\n",
       "display: block;\n",
       "padding-bottom: 1.3em;\n",
       "padding-left: 0.4em;\n",
       "}\n",
       ".hoogle-code {\n",
       "display: block;\n",
       "font-family: monospace;\n",
       "white-space: pre;\n",
       "}\n",
       ".hoogle-text {\n",
       "display: block;\n",
       "}\n",
       ".hoogle-name {\n",
       "color: green;\n",
       "font-weight: bold;\n",
       "}\n",
       ".hoogle-head {\n",
       "font-weight: bold;\n",
       "}\n",
       ".hoogle-sub {\n",
       "display: block;\n",
       "margin-left: 0.4em;\n",
       "}\n",
       ".hoogle-package {\n",
       "font-weight: bold;\n",
       "font-style: italic;\n",
       "}\n",
       ".hoogle-module {\n",
       "font-weight: bold;\n",
       "}\n",
       ".hoogle-class {\n",
       "font-weight: bold;\n",
       "}\n",
       ".get-type {\n",
       "color: green;\n",
       "font-weight: bold;\n",
       "font-family: monospace;\n",
       "display: block;\n",
       "white-space: pre-wrap;\n",
       "}\n",
       ".show-type {\n",
       "color: green;\n",
       "font-weight: bold;\n",
       "font-family: monospace;\n",
       "margin-left: 1em;\n",
       "}\n",
       ".mono {\n",
       "font-family: monospace;\n",
       "display: block;\n",
       "}\n",
       ".err-msg {\n",
       "color: red;\n",
       "font-style: italic;\n",
       "font-family: monospace;\n",
       "white-space: pre;\n",
       "display: block;\n",
       "}\n",
       "#unshowable {\n",
       "color: red;\n",
       "font-weight: bold;\n",
       "}\n",
       ".err-msg.in.collapse {\n",
       "padding-top: 0.7em;\n",
       "}\n",
       ".highlight-code {\n",
       "white-space: pre;\n",
       "font-family: monospace;\n",
       "}\n",
       ".suggestion-warning { \n",
       "font-weight: bold;\n",
       "color: rgb(200, 130, 0);\n",
       "}\n",
       ".suggestion-error { \n",
       "font-weight: bold;\n",
       "color: red;\n",
       "}\n",
       ".suggestion-name {\n",
       "font-weight: bold;\n",
       "}\n",
       "</style><span class='get-type'>pos2 :: (Int, Int)</span>"
      ],
      "text/plain": [
       "pos2 :: (Int, Int)"
      ]
     },
     "metadata": {},
     "output_type": "display_data"
    },
    {
     "data": {
      "text/html": [
       "<style>/* Styles used for the Hoogle display in the pager */\n",
       ".hoogle-doc {\n",
       "display: block;\n",
       "padding-bottom: 1.3em;\n",
       "padding-left: 0.4em;\n",
       "}\n",
       ".hoogle-code {\n",
       "display: block;\n",
       "font-family: monospace;\n",
       "white-space: pre;\n",
       "}\n",
       ".hoogle-text {\n",
       "display: block;\n",
       "}\n",
       ".hoogle-name {\n",
       "color: green;\n",
       "font-weight: bold;\n",
       "}\n",
       ".hoogle-head {\n",
       "font-weight: bold;\n",
       "}\n",
       ".hoogle-sub {\n",
       "display: block;\n",
       "margin-left: 0.4em;\n",
       "}\n",
       ".hoogle-package {\n",
       "font-weight: bold;\n",
       "font-style: italic;\n",
       "}\n",
       ".hoogle-module {\n",
       "font-weight: bold;\n",
       "}\n",
       ".hoogle-class {\n",
       "font-weight: bold;\n",
       "}\n",
       ".get-type {\n",
       "color: green;\n",
       "font-weight: bold;\n",
       "font-family: monospace;\n",
       "display: block;\n",
       "white-space: pre-wrap;\n",
       "}\n",
       ".show-type {\n",
       "color: green;\n",
       "font-weight: bold;\n",
       "font-family: monospace;\n",
       "margin-left: 1em;\n",
       "}\n",
       ".mono {\n",
       "font-family: monospace;\n",
       "display: block;\n",
       "}\n",
       ".err-msg {\n",
       "color: red;\n",
       "font-style: italic;\n",
       "font-family: monospace;\n",
       "white-space: pre;\n",
       "display: block;\n",
       "}\n",
       "#unshowable {\n",
       "color: red;\n",
       "font-weight: bold;\n",
       "}\n",
       ".err-msg.in.collapse {\n",
       "padding-top: 0.7em;\n",
       "}\n",
       ".highlight-code {\n",
       "white-space: pre;\n",
       "font-family: monospace;\n",
       "}\n",
       ".suggestion-warning { \n",
       "font-weight: bold;\n",
       "color: rgb(200, 130, 0);\n",
       "}\n",
       ".suggestion-error { \n",
       "font-weight: bold;\n",
       "color: red;\n",
       "}\n",
       ".suggestion-name {\n",
       "font-weight: bold;\n",
       "}\n",
       "</style><span class='get-type'>scale :: Int -> Trans</span>"
      ],
      "text/plain": [
       "scale :: Int -> Trans"
      ]
     },
     "metadata": {},
     "output_type": "display_data"
    },
    {
     "data": {},
     "metadata": {},
     "output_type": "display_data"
    },
    {
     "data": {
      "text/html": [
       "<div style='background: rgb(247, 247, 247);'><form><textarea id='code'>type Trans = Pos -> Pos \t-- Defined at <interactive>:2:1\n",
       "</textarea></form></div><script>CodeMirror.fromTextArea(document.getElementById('code'), {mode: 'haskell', readOnly: 'nocursor'});</script>"
      ],
      "text/plain": [
       "type Trans = Pos -> Pos \t-- Defined at <interactive>:2:1"
      ]
     },
     "metadata": {},
     "output_type": "display_data"
    }
   ],
   "source": [
    ":type pos1\n",
    ":type pos2\n",
    ":type scale\n",
    ":info Trans"
   ]
  },
  {
   "cell_type": "markdown",
   "metadata": {},
   "source": [
    "타입 파라메터로 더 일반적인 type 선언도 가능하다.  \n",
    "Pair a는 첫째와 둘째 원소 타입이 a로 같은 순서쌍"
   ]
  },
  {
   "cell_type": "code",
   "execution_count": 80,
   "metadata": {},
   "outputs": [],
   "source": [
    "type Pair a = (a,a)"
   ]
  },
  {
   "cell_type": "markdown",
   "metadata": {},
   "source": [
    "자기 자신을 포함하는 재귀적 type 선언은 불가능하다."
   ]
  },
  {
   "cell_type": "code",
   "execution_count": 81,
   "metadata": {},
   "outputs": [
    {
     "ename": "",
     "evalue": "",
     "header": "MessageHeader {mhIdentifiers = [\"adb292bb-0e96-41a8-80bf-7144b97ad6b9\"], mhParentHeader = Just (MessageHeader {mhIdentifiers = [\"adb292bb-0e96-41a8-80bf-7144b97ad6b9\"], mhParentHeader = Nothing, mhMetadata = Metadata (fromList [(\"recordTiming\",Bool False),(\"deletedCells\",Array []),(\"cellId\",String \"cd532a8b-faca-49d3-8f38-6e7aa3b6b730\")]), mhMessageId = UUID {uuidToString = \"d5f99c9c-4170-4076-b4ff-fd045bf2a70a\"}, mhSessionId = UUID {uuidToString = \"adb292bb-0e96-41a8-80bf-7144b97ad6b9\"}, mhUsername = \"\", mhMsgType = ExecuteRequestMessage, mhBuffers = []}), mhMetadata = Metadata (fromList []), mhMessageId = UUID {uuidToString = \"4829efbf-5502-4bfa-8138-10ce18f62e8a\"}, mhSessionId = UUID {uuidToString = \"adb292bb-0e96-41a8-80bf-7144b97ad6b9\"}, mhUsername = \"\", mhMsgType = ExecuteErrorMessage, mhBuffers = []}",
     "output_type": "error",
     "traceback": [
      "<interactive>:1:1: error: Cycle in type synonym declarations: <interactive>:1:1-25: type Tree = (Int, [Tree])"
     ]
    }
   ],
   "source": [
    "type Tree = (Int, [Tree]) \n",
    "-- Cycle in type synonym declarations"
   ]
  },
  {
   "cell_type": "markdown",
   "metadata": {},
   "source": [
    "### 8.2 Data declarations"
   ]
  },
  {
   "cell_type": "markdown",
   "metadata": {},
   "source": [
    "새로운 데이터 상수 혹은 데이터 생성자를 포함하며 기존의 타입과는 다른   \n",
    "새로운 타입을 정의하기 위해 data 키워드를 사용한다.   \n",
    "다른 언어에서 enum이라고 보통 부르는 것도 하스켈에서 data로 정의할 수 있다.   \n",
    "이미 접해본 Bool 타입도 표준 라이브러리에서  \n",
    "\n",
    "```haskell\n",
    "data Bool = False | True  \n",
    "```\n",
    "\n",
    "이런 식으로 정의되어 있다."
   ]
  },
  {
   "cell_type": "code",
   "execution_count": 82,
   "metadata": {},
   "outputs": [
    {
     "data": {},
     "metadata": {},
     "output_type": "display_data"
    },
    {
     "data": {
      "text/html": [
       "<div style='background: rgb(247, 247, 247);'><form><textarea id='code'>data Bool = False | True \t-- Defined in ‘GHC.Types’\n",
       "instance Show Bool -- Defined in ‘GHC.Show’\n",
       "instance Enum Bool -- Defined in ‘GHC.Enum’\n",
       "instance Eq Bool -- Defined in ‘GHC.Classes’\n",
       "instance Ord Bool -- Defined in ‘GHC.Classes’\n",
       "instance Read Bool -- Defined in ‘GHC.Read’\n",
       "instance Bounded Bool -- Defined in ‘GHC.Enum’\n",
       "</textarea></form></div><script>CodeMirror.fromTextArea(document.getElementById('code'), {mode: 'haskell', readOnly: 'nocursor'});</script>"
      ],
      "text/plain": [
       "data Bool = False | True \t-- Defined in ‘GHC.Types’\n",
       "instance Show Bool -- Defined in ‘GHC.Show’\n",
       "instance Enum Bool -- Defined in ‘GHC.Enum’\n",
       "instance Eq Bool -- Defined in ‘GHC.Classes’\n",
       "instance Ord Bool -- Defined in ‘GHC.Classes’\n",
       "instance Read Bool -- Defined in ‘GHC.Read’\n",
       "instance Bounded Bool -- Defined in ‘GHC.Enum’"
      ]
     },
     "metadata": {},
     "output_type": "display_data"
    }
   ],
   "source": [
    ":info Bool"
   ]
  },
  {
   "cell_type": "code",
   "execution_count": 83,
   "metadata": {},
   "outputs": [],
   "source": [
    "data Move = North | South | East | West"
   ]
  },
  {
   "cell_type": "markdown",
   "metadata": {},
   "source": [
    "타입 이름인 Move도 대문자로 시작  \n",
    "데이터 생성자(data constructor)도 모두 대문자로 시작  \n",
    "\n",
    "참고로 이렇게 data로 선언된 Move와 같은 타입의 이름을  \n",
    "타입 생성자(type constructor)라고 부른다."
   ]
  },
  {
   "cell_type": "code",
   "execution_count": 84,
   "metadata": {},
   "outputs": [],
   "source": [
    "-- 2차원 좌표에서 이동\n",
    "move :: Move -> Pos -> Pos -- Pos -> Pos 를 Trans로 대체 가능\n",
    "move North (x,y) = (x,y+1)\n",
    "move South (x,y) = (x,y-1)\n",
    "move East  (x,y) = (x+1,y)\n",
    "move West  (x,y) = (x-1,y)"
   ]
  },
  {
   "cell_type": "code",
   "execution_count": 85,
   "metadata": {},
   "outputs": [
    {
     "data": {
      "text/plain": [
       "(3,5)"
      ]
     },
     "metadata": {},
     "output_type": "display_data"
    },
    {
     "data": {
      "text/plain": [
       "(3,3)"
      ]
     },
     "metadata": {},
     "output_type": "display_data"
    },
    {
     "data": {
      "text/plain": [
       "(4,4)"
      ]
     },
     "metadata": {},
     "output_type": "display_data"
    },
    {
     "data": {
      "text/plain": [
       "(2,4)"
      ]
     },
     "metadata": {},
     "output_type": "display_data"
    }
   ],
   "source": [
    "move North pos1\n",
    "move South pos1\n",
    "move East  pos1\n",
    "move West  pos1"
   ]
  },
  {
   "cell_type": "markdown",
   "metadata": {},
   "source": [
    "더 다양한 data 정의  \n",
    "데이터 생성자가 추가적인 정보를 안고 있을 수 있다. \n",
    "```haskell\n",
    "data T = C1 T11 T12 ... T1n | C2 T21 T22 .. T1m ..\n",
    "```\n",
    "\n",
    "\n",
    "우리가 다루려는 도형이 2가지   \n",
    "원(Circle)과 정사각형(Rectangle) 딱 두개가 있다면"
   ]
  },
  {
   "cell_type": "code",
   "execution_count": 86,
   "metadata": {},
   "outputs": [],
   "source": [
    "data Shape = Circle Float | Rect Float Float"
   ]
  },
  {
   "cell_type": "code",
   "execution_count": 96,
   "metadata": {},
   "outputs": [
    {
     "ename": "",
     "evalue": "",
     "header": "MessageHeader {mhIdentifiers = [\"adb292bb-0e96-41a8-80bf-7144b97ad6b9\"], mhParentHeader = Just (MessageHeader {mhIdentifiers = [\"adb292bb-0e96-41a8-80bf-7144b97ad6b9\"], mhParentHeader = Nothing, mhMetadata = Metadata (fromList [(\"recordTiming\",Bool False),(\"deletedCells\",Array []),(\"cellId\",String \"76d3a6bc-695d-41a3-bef8-27f6854d6da6\")]), mhMessageId = UUID {uuidToString = \"ded08a45-c13b-48e7-84e7-57a70c8f4092\"}, mhSessionId = UUID {uuidToString = \"adb292bb-0e96-41a8-80bf-7144b97ad6b9\"}, mhUsername = \"\", mhMsgType = ExecuteRequestMessage, mhBuffers = []}), mhMetadata = Metadata (fromList []), mhMessageId = UUID {uuidToString = \"13261928-f9b6-4b7b-bda5-88bda91c337d\"}, mhSessionId = UUID {uuidToString = \"adb292bb-0e96-41a8-80bf-7144b97ad6b9\"}, mhUsername = \"\", mhMsgType = ExecuteErrorMessage, mhBuffers = []}",
     "output_type": "error",
     "traceback": [
      "<interactive>:2:1: error:\n    Equations for ‘area’ have different numbers of arguments\n      <interactive>:2:1-26\n      <interactive>:3:1-21"
     ]
    }
   ],
   "source": [
    "-- 도형의 넓이 구하기\n",
    "area :: Shape -> Float\n",
    "area (Circle r) = pi * r ^ 2\n",
    "area (Rect w h) = w * h"
   ]
  },
  {
   "cell_type": "code",
   "execution_count": 97,
   "metadata": {},
   "outputs": [
    {
     "data": {
      "text/plain": [
       "314.15927"
      ]
     },
     "metadata": {},
     "output_type": "display_data"
    }
   ],
   "source": [
    "area (Circle 10)"
   ]
  },
  {
   "cell_type": "code",
   "execution_count": 100,
   "metadata": {},
   "outputs": [
    {
     "data": {
      "text/plain": [
       "50.0"
      ]
     },
     "metadata": {},
     "output_type": "display_data"
    }
   ],
   "source": [
    "area (Rect 10 5.0)"
   ]
  },
  {
   "cell_type": "markdown",
   "metadata": {},
   "source": [
    "data도 타입 파라메터를 활용해 일반적 정의가 가능하다.  \n",
    "표준 라이브러리에 있는 Maybe 타입이 대표적인 사례이다.\n",
    "(리스트 타입도 그렇다.)"
   ]
  },
  {
   "cell_type": "code",
   "execution_count": 102,
   "metadata": {},
   "outputs": [
    {
     "data": {},
     "metadata": {},
     "output_type": "display_data"
    },
    {
     "data": {
      "text/html": [
       "<div style='background: rgb(247, 247, 247);'><form><textarea id='code'>data Maybe a = Nothing | Just a \t-- Defined in ‘GHC.Maybe’\n",
       "instance Functor Maybe -- Defined in ‘GHC.Base’\n",
       "instance Show a => Show (Maybe a) -- Defined in ‘GHC.Show’\n",
       "instance Eq a => Eq (Maybe a) -- Defined in ‘GHC.Maybe’\n",
       "instance Semigroup a => Monoid (Maybe a) -- Defined in ‘GHC.Base’\n",
       "instance Ord a => Ord (Maybe a) -- Defined in ‘GHC.Maybe’\n",
       "instance Semigroup a => Semigroup (Maybe a) -- Defined in ‘GHC.Base’\n",
       "instance Read a => Read (Maybe a) -- Defined in ‘GHC.Read’\n",
       "instance Applicative Maybe -- Defined in ‘GHC.Base’\n",
       "instance Monad Maybe -- Defined in ‘GHC.Base’\n",
       "instance Foldable Maybe -- Defined in ‘Data.Foldable’\n",
       "instance MonadFail Maybe -- Defined in ‘Control.Monad.Fail’\n",
       "instance Traversable Maybe -- Defined in ‘Data.Traversable’\n",
       "</textarea></form></div><script>CodeMirror.fromTextArea(document.getElementById('code'), {mode: 'haskell', readOnly: 'nocursor'});</script>"
      ],
      "text/plain": [
       "data Maybe a = Nothing | Just a \t-- Defined in ‘GHC.Maybe’\n",
       "instance Functor Maybe -- Defined in ‘GHC.Base’\n",
       "instance Show a => Show (Maybe a) -- Defined in ‘GHC.Show’\n",
       "instance Eq a => Eq (Maybe a) -- Defined in ‘GHC.Maybe’\n",
       "instance Semigroup a => Monoid (Maybe a) -- Defined in ‘GHC.Base’\n",
       "instance Ord a => Ord (Maybe a) -- Defined in ‘GHC.Maybe’\n",
       "instance Semigroup a => Semigroup (Maybe a) -- Defined in ‘GHC.Base’\n",
       "instance Read a => Read (Maybe a) -- Defined in ‘GHC.Read’\n",
       "instance Applicative Maybe -- Defined in ‘GHC.Base’\n",
       "instance Monad Maybe -- Defined in ‘GHC.Base’\n",
       "instance Foldable Maybe -- Defined in ‘Data.Foldable’\n",
       "instance MonadFail Maybe -- Defined in ‘Control.Monad.Fail’\n",
       "instance Traversable Maybe -- Defined in ‘Data.Traversable’"
      ]
     },
     "metadata": {},
     "output_type": "display_data"
    }
   ],
   "source": [
    ":info Maybe"
   ]
  },
  {
   "cell_type": "markdown",
   "metadata": {},
   "source": [
    "```haskell\n",
    "data Maybe a = Nothing | Just a\n",
    "```\n",
    "Maybe a 는 아무것도 안들고 있는 Nothing 이거나  \n",
    "a라는 타입의 값을 하나 들고 있는 Just이거나 둘 중 하나라는 뜻이다."
   ]
  },
  {
   "cell_type": "code",
   "execution_count": 103,
   "metadata": {},
   "outputs": [
    {
     "data": {
      "text/plain": [
       "1"
      ]
     },
     "metadata": {},
     "output_type": "display_data"
    },
    {
     "data": {
      "text/plain": [
       "1"
      ]
     },
     "metadata": {},
     "output_type": "display_data"
    },
    {
     "data": {
      "text/plain": [
       "1"
      ]
     },
     "metadata": {},
     "output_type": "display_data"
    },
    {
     "ename": "",
     "evalue": "",
     "header": "MessageHeader {mhIdentifiers = [\"adb292bb-0e96-41a8-80bf-7144b97ad6b9\"], mhParentHeader = Just (MessageHeader {mhIdentifiers = [\"adb292bb-0e96-41a8-80bf-7144b97ad6b9\"], mhParentHeader = Nothing, mhMetadata = Metadata (fromList [(\"recordTiming\",Bool False),(\"deletedCells\",Array []),(\"cellId\",String \"ce499e92-cd1f-4150-85b7-2b3ce38c1434\")]), mhMessageId = UUID {uuidToString = \"cb74a474-3a03-45f2-a196-4343623788fb\"}, mhSessionId = UUID {uuidToString = \"adb292bb-0e96-41a8-80bf-7144b97ad6b9\"}, mhUsername = \"\", mhMsgType = ExecuteRequestMessage, mhBuffers = []}), mhMetadata = Metadata (fromList []), mhMessageId = UUID {uuidToString = \"abd51fd8-c755-4bcd-9a12-5c5eb899d175\"}, mhSessionId = UUID {uuidToString = \"adb292bb-0e96-41a8-80bf-7144b97ad6b9\"}, mhUsername = \"\", mhMsgType = ExecuteErrorMessage, mhBuffers = []}",
     "output_type": "error",
     "traceback": [
      "Prelude.head: empty list"
     ]
    }
   ],
   "source": [
    "head [1,2,3]\n",
    "head [1,2]\n",
    "head [1]\n",
    "head []"
   ]
  },
  {
   "cell_type": "markdown",
   "metadata": {},
   "source": [
    "리스트에서 머리 원소를 하나 떼주는데\n",
    "- 없을때는 Nothing\n",
    "- 있을때는 Just에 담기"
   ]
  },
  {
   "cell_type": "code",
   "execution_count": 111,
   "metadata": {},
   "outputs": [],
   "source": [
    "safehead :: [a] -> Maybe a\n",
    "safehead []     = Nothing\n",
    "safehead (x:xs) = Just x"
   ]
  },
  {
   "cell_type": "code",
   "execution_count": 112,
   "metadata": {},
   "outputs": [
    {
     "data": {
      "text/plain": [
       "Just 1"
      ]
     },
     "metadata": {},
     "output_type": "display_data"
    },
    {
     "data": {
      "text/plain": [
       "Just 1"
      ]
     },
     "metadata": {},
     "output_type": "display_data"
    },
    {
     "data": {
      "text/plain": [
       "Just 1"
      ]
     },
     "metadata": {},
     "output_type": "display_data"
    },
    {
     "data": {
      "text/plain": [
       "Nothing"
      ]
     },
     "metadata": {},
     "output_type": "display_data"
    }
   ],
   "source": [
    "safehead [1,2,3]\n",
    "safehead [1,2]\n",
    "safehead [1]\n",
    "safehead []"
   ]
  },
  {
   "cell_type": "code",
   "execution_count": 110,
   "metadata": {},
   "outputs": [
    {
     "data": {
      "text/html": [
       "<style>/* Styles used for the Hoogle display in the pager */\n",
       ".hoogle-doc {\n",
       "display: block;\n",
       "padding-bottom: 1.3em;\n",
       "padding-left: 0.4em;\n",
       "}\n",
       ".hoogle-code {\n",
       "display: block;\n",
       "font-family: monospace;\n",
       "white-space: pre;\n",
       "}\n",
       ".hoogle-text {\n",
       "display: block;\n",
       "}\n",
       ".hoogle-name {\n",
       "color: green;\n",
       "font-weight: bold;\n",
       "}\n",
       ".hoogle-head {\n",
       "font-weight: bold;\n",
       "}\n",
       ".hoogle-sub {\n",
       "display: block;\n",
       "margin-left: 0.4em;\n",
       "}\n",
       ".hoogle-package {\n",
       "font-weight: bold;\n",
       "font-style: italic;\n",
       "}\n",
       ".hoogle-module {\n",
       "font-weight: bold;\n",
       "}\n",
       ".hoogle-class {\n",
       "font-weight: bold;\n",
       "}\n",
       ".get-type {\n",
       "color: green;\n",
       "font-weight: bold;\n",
       "font-family: monospace;\n",
       "display: block;\n",
       "white-space: pre-wrap;\n",
       "}\n",
       ".show-type {\n",
       "color: green;\n",
       "font-weight: bold;\n",
       "font-family: monospace;\n",
       "margin-left: 1em;\n",
       "}\n",
       ".mono {\n",
       "font-family: monospace;\n",
       "display: block;\n",
       "}\n",
       ".err-msg {\n",
       "color: red;\n",
       "font-style: italic;\n",
       "font-family: monospace;\n",
       "white-space: pre;\n",
       "display: block;\n",
       "}\n",
       "#unshowable {\n",
       "color: red;\n",
       "font-weight: bold;\n",
       "}\n",
       ".err-msg.in.collapse {\n",
       "padding-top: 0.7em;\n",
       "}\n",
       ".highlight-code {\n",
       "white-space: pre;\n",
       "font-family: monospace;\n",
       "}\n",
       ".suggestion-warning { \n",
       "font-weight: bold;\n",
       "color: rgb(200, 130, 0);\n",
       "}\n",
       ".suggestion-error { \n",
       "font-weight: bold;\n",
       "color: red;\n",
       "}\n",
       ".suggestion-name {\n",
       "font-weight: bold;\n",
       "}\n",
       "</style><span class='get-type'>safehead :: forall a. [a] -> Maybe a</span>"
      ],
      "text/plain": [
       "safehead :: forall a. [a] -> Maybe a"
      ]
     },
     "metadata": {},
     "output_type": "display_data"
    }
   ],
   "source": [
    ":type safehead"
   ]
  },
  {
   "cell_type": "markdown",
   "metadata": {},
   "source": [
    "### 8.3 Newtype declarations"
   ]
  },
  {
   "cell_type": "markdown",
   "metadata": {},
   "source": [
    "type 만으로는 헷갈리는데 그렇다고 data로 하긴 낭비\n",
    "구분해서 쓰고 싶을 때 Newtype 사용"
   ]
  },
  {
   "cell_type": "code",
   "execution_count": 115,
   "metadata": {},
   "outputs": [],
   "source": [
    "type Length = Float\n",
    "type Weight = Float\n",
    "\n",
    "l1 :: Length\n",
    "l1 = 12.3\n",
    "\n",
    "w1 :: Weight\n",
    "w1 = 5.6\n",
    "\n",
    "doubleLength :: Length -> Length\n",
    "doubleLength l = 2 * l\n",
    "\n",
    "doubleWeight :: Weight -> Weight\n",
    "doubleWeight w = 2 * w"
   ]
  },
  {
   "cell_type": "markdown",
   "metadata": {},
   "source": [
    "실수로 doubleLength w1나 doubleLength l1을 해도  \n",
    "타입 오류가 나지 않고 의도치 않은 게 실행이 된다."
   ]
  },
  {
   "cell_type": "code",
   "execution_count": 117,
   "metadata": {},
   "outputs": [
    {
     "data": {
      "text/plain": [
       "11.2"
      ]
     },
     "metadata": {},
     "output_type": "display_data"
    }
   ],
   "source": [
    "doubleLength w1"
   ]
  }
 ],
 "metadata": {
  "kernelspec": {
   "display_name": "Haskell",
   "language": "haskell",
   "name": "haskell"
  },
  "language_info": {
   "codemirror_mode": "Haskell",
   "file_extension": ".hs",
   "mimetype": "text/x-haskell",
   "name": "haskell",
   "pygments_lexer": "Haskell",
   "version": "8.8.4"
  }
 },
 "nbformat": 4,
 "nbformat_minor": 4
}
