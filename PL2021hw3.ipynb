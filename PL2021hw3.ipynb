{
 "cells": [
  {
   "cell_type": "code",
   "execution_count": 16,
   "metadata": {},
   "outputs": [
    {
     "ename": "",
     "evalue": "",
     "header": "MessageHeader {mhIdentifiers = [\"18960659-b70a-4945-b633-8c245d88a9db\"], mhParentHeader = Just (MessageHeader {mhIdentifiers = [\"18960659-b70a-4945-b633-8c245d88a9db\"], mhParentHeader = Nothing, mhMetadata = Metadata (fromList [(\"recordTiming\",Bool False),(\"deletedCells\",Array []),(\"cellId\",String \"acf82d8b-ed69-4470-8878-f73a391583fb\")]), mhMessageId = UUID {uuidToString = \"fa812adb-a449-447c-9c58-9bf707080981\"}, mhSessionId = UUID {uuidToString = \"18960659-b70a-4945-b633-8c245d88a9db\"}, mhUsername = \"\", mhMsgType = ExecuteRequestMessage, mhBuffers = []}), mhMetadata = Metadata (fromList []), mhMessageId = UUID {uuidToString = \"0e7591d9-4c5e-440f-9bd3-99fc95dd2df8\"}, mhSessionId = UUID {uuidToString = \"18960659-b70a-4945-b633-8c245d88a9db\"}, mhUsername = \"\", mhMsgType = ExecuteErrorMessage, mhBuffers = []}",
     "output_type": "error",
     "traceback": [
      "<interactive>:39:15: error:\n    • Couldn't match expected type ‘Bool’ with actual type ‘Prop’\n    • In the first argument of ‘(&&)’, namely ‘Const True’\n      In the first argument of ‘isTaut’, namely ‘(Const True && Const False)’\n      In the expression: isTaut (Const True && Const False)\n<interactive>:39:15: error:\n    • Couldn't match expected type ‘Prop’ with actual type ‘Bool’\n    • In the first argument of ‘isTaut’, namely ‘(Const True && Const False)’\n      In the expression: isTaut (Const True && Const False)\n      In an equation for ‘p01’: p01 = isTaut (Const True && Const False)\n<interactive>:39:29: error:\n    • Couldn't match expected type ‘Bool’ with actual type ‘Prop’\n    • In the second argument of ‘(&&)’, namely ‘Const False’\n      In the first argument of ‘isTaut’, namely ‘(Const True && Const False)’\n      In the expression: isTaut (Const True && Const False)\n<interactive>:54:36: error:\n    • Couldn't match expected type ‘Prop’ with actual type ‘Bool’\n    • In the third argument of ‘test’, namely ‘p01’\n      In a stmt of a 'do' block: test isTaut \"isTaut\" p01 q01\n      In the expression:\n        do test isTaut \"isTaut\" p01 q01\n           test isSat \"isSat\" p02 q02\n           test isUnsat \"isUnsat\" p03 q03\n           test isContingent \"isContingent\" p04 q04"
     ]
    }
   ],
   "source": [
    "{- 2021년 1학기 프로그래밍언어 HW3\n",
    "이름:\n",
    "-}\n",
    "\n",
    "-- 8.9 Exercise의 8번 문제 (p.110) 내용에 덧붙여\n",
    "-- 추가로 isTaut와 관련된 개념의 함수를 3개 더 정의하고\n",
    "-- 4개의 함수에 대한 테스트 작성\n",
    "import Data.List (sort, nub)\n",
    "\n",
    "type Assoc k v = [(k,v)]\n",
    "\n",
    "find :: Eq k => k -> Assoc k v -> v\n",
    "find k t = head [v | (k',v) <- t, k == k']\n",
    "\n",
    "-- 아래 Prop의 정의와 show의 정의에서 주석을 해제하여\n",
    "-- Or과 Iff를 추가하고 Prop을 활용하는 다른 곳의 코드도\n",
    "-- 수정이 필요한 부분을 찾아서 수정하라 (2점)\n",
    "data Prop\n",
    "  = Const Bool       -- T, F\n",
    "  | Var Char         -- A, B, ...\n",
    "  | Not Prop         -- ~ p\n",
    "  | And Prop Prop    -- p /\\ q\n",
    "  | Imply Prop Prop  -- p => q\n",
    "-- | Or Prop Prop     -- p \\/ q\n",
    "-- | Iff Prop Prop    -- p <=> q\n",
    "\n",
    "instance Show Prop where\n",
    "  show (Const True)  = \"T\"\n",
    "  show (Const False) = \"F\"\n",
    "  show (Var x)     = [x]\n",
    "  show (Not p)     = \"~\" ++ show p\n",
    "  show (And p q)   = \"(\"++show p++\" /\\\\ \"++show q++\")\"\n",
    "  show (Imply p q) = \"(\"++show p++\" => \"++show q++\")\"\n",
    "-- show (Or p q)    = \"(\"++show p++\" \\\\/ \"++show q++\")\"\n",
    "-- show (Iff p q)   = \"(\"++show p++\" <=> \"++show q++\")\"\n",
    "\n",
    "type Subst = Assoc Char Bool\n",
    "\n",
    "eval :: Subst -> Prop -> Bool\n",
    "eval _ (Const b)   = b\n",
    "eval s (Var x)     = find x s\n",
    "eval s (Not p)     = not (eval s p) \n",
    "eval s (And p q)   = eval s p && eval s q\n",
    "eval s (Imply p q) = eval s p <= eval s q\n",
    "\n",
    "vars :: Prop -> [Char]\n",
    "vars (Const _)   = []\n",
    "vars (Var x)     = [x]\n",
    "vars (Not p)     = vars p\n",
    "vars (And p q)   = vars p ++ vars q\n",
    "vars (Imply p q) = vars p ++ vars q\n",
    "\n",
    "bools :: Int -> [[Bool]]\n",
    "bools 0 = [[]]\n",
    "bools n = [b:bs | b<-[False,True], bs<-bss]\n",
    "  where bss = bools (n-1)\n",
    "\n",
    "substs :: Prop -> [Subst]\n",
    "substs p = map (zip vs) (bools (length vs))\n",
    "  where vs = sort . nub $ vars p\n",
    "\n",
    "{-\n",
    "tautological: always true\n",
    "satisfiable: can be true\n",
    "unsatisfiable, contradictory: always false\n",
    "contingent: sometimes true, sometimes false\n",
    "\n",
    "함수마다 한쌍(두 개)씩 작성하는 테스트는 그 결과가\n",
    "첫번째가 True이고 두번째는 False가 되도록 작성하되,\n",
    "각각의 테스트 명제는 변수를 두 개 이상 포함하며\n",
    "한쌍의 테스트 명제에서 ∨와 ⇔를 두루 활용해야 한다.\n",
    "한 테스트에서 한꺼번에 ∨, ⇔를 활용할 필요는 없다.\n",
    "예를 들어 isTaut의 테스트 명제인 p01과 q01을 작성할 때,\n",
    "예를 들어 p01은 ∨만 q01는 ⇔만 활용해서 작성해도 된다.\n",
    "-}\n",
    "isTaut :: Prop -> Bool\n",
    "isTaut p = and [eval s p | s <- substs p]\n",
    "-- 테스트 작성 (2점) \n",
    "p01 = isTaut (Const True && Const False) -- isTaut p01 == True\n",
    "q01 = Const True -- isTaut q01 == False\n",
    "\n",
    "isSat :: Prop -> Bool -- 함수 정의 (1점)\n",
    "isSat p = undefined\n",
    "-- 테스트 작성 (2점)\n",
    "p02 = undefined -- isSat p02 == True\n",
    "q02 = undefined -- isSat q02 == False\n",
    "\n",
    "isUnsat :: Prop -> Bool -- 함수 정의 (1점)\n",
    "isUnsat p = undefined\n",
    "-- 테스트 작성 (2점)\n",
    "p03 = undefined -- isUnsat p03 == True\n",
    "q03 = undefined -- isUnsat q03 == False\n",
    "\n",
    "isContingent :: Prop -> Bool -- 함수 정의 (1점)\n",
    "isContingent p = undefined\n",
    "-- 테스트 작성 (2점)\n",
    "p04 = undefined -- isContingent p04 == True\n",
    "q04 = undefined -- isContingent q04 == False\n",
    "\n",
    "main = do\n",
    "  test isTaut       \"isTaut\"       p01 q01\n",
    "  test isSat        \"isSat\"        p02 q02\n",
    "  test isUnsat      \"isUnsat\"      p03 q03\n",
    "  test isContingent \"isContingent\" p04 q04\n",
    "\n",
    "test f fname p q = do\n",
    "  putStrLn $ \"== testing \" ++ fname ++ \" ========\"\n",
    "  putStrLn $ \"p = \" ++ show p\n",
    "  putStrLn $ \"q = \" ++ show q\n",
    "  putStrLn $ fname ++ \" p == \" ++ show (f p)\n",
    "  putStrLn $ fname ++ \" q == \" ++ show (f q)"
   ]
  },
  {
   "cell_type": "code",
   "execution_count": 14,
   "metadata": {},
   "outputs": [
    {
     "data": {
      "text/plain": [
       "== testing isTaut ========\n",
       "p = T\n",
       "q = T\n",
       "isTaut p == True\n",
       "isTaut q == True"
      ]
     },
     "metadata": {},
     "output_type": "display_data"
    },
    {
     "ename": "",
     "evalue": "",
     "header": "MessageHeader {mhIdentifiers = [\"18960659-b70a-4945-b633-8c245d88a9db\"], mhParentHeader = Just (MessageHeader {mhIdentifiers = [\"18960659-b70a-4945-b633-8c245d88a9db\"], mhParentHeader = Nothing, mhMetadata = Metadata (fromList [(\"recordTiming\",Bool False),(\"deletedCells\",Array []),(\"cellId\",String \"395fdf33-451e-40fa-9884-a4c95c87860e\")]), mhMessageId = UUID {uuidToString = \"bb9fde88-6609-4405-a06d-a4e23e429ea7\"}, mhSessionId = UUID {uuidToString = \"18960659-b70a-4945-b633-8c245d88a9db\"}, mhUsername = \"\", mhMsgType = ExecuteRequestMessage, mhBuffers = []}), mhMetadata = Metadata (fromList []), mhMessageId = UUID {uuidToString = \"43cfce24-0fcc-47d7-9052-81d87f76b3aa\"}, mhSessionId = UUID {uuidToString = \"18960659-b70a-4945-b633-8c245d88a9db\"}, mhUsername = \"\", mhMsgType = ExecuteErrorMessage, mhBuffers = []}",
     "output_type": "error",
     "traceback": [
      "Prelude.undefined\nCallStack (from HasCallStack):\n  error, called at libraries/base/GHC/Err.hs:80:14 in base:GHC.Err\n  undefined, called at <interactive>:43:7 in interactive:Ghci21"
     ]
    }
   ],
   "source": [
    "test isTaut       \"isTaut\"       p01 q01\n",
    "test isSat        \"isSat\"        p02 q02\n",
    "test isUnsat      \"isUnsat\"      p03 q03\n",
    "test isContingent \"isContingent\" p04 q04"
   ]
  },
  {
   "cell_type": "code",
   "execution_count": 12,
   "metadata": {},
   "outputs": [
    {
     "data": {
      "text/html": [
       "<style>/* Styles used for the Hoogle display in the pager */\n",
       ".hoogle-doc {\n",
       "display: block;\n",
       "padding-bottom: 1.3em;\n",
       "padding-left: 0.4em;\n",
       "}\n",
       ".hoogle-code {\n",
       "display: block;\n",
       "font-family: monospace;\n",
       "white-space: pre;\n",
       "}\n",
       ".hoogle-text {\n",
       "display: block;\n",
       "}\n",
       ".hoogle-name {\n",
       "color: green;\n",
       "font-weight: bold;\n",
       "}\n",
       ".hoogle-head {\n",
       "font-weight: bold;\n",
       "}\n",
       ".hoogle-sub {\n",
       "display: block;\n",
       "margin-left: 0.4em;\n",
       "}\n",
       ".hoogle-package {\n",
       "font-weight: bold;\n",
       "font-style: italic;\n",
       "}\n",
       ".hoogle-module {\n",
       "font-weight: bold;\n",
       "}\n",
       ".hoogle-class {\n",
       "font-weight: bold;\n",
       "}\n",
       ".get-type {\n",
       "color: green;\n",
       "font-weight: bold;\n",
       "font-family: monospace;\n",
       "display: block;\n",
       "white-space: pre-wrap;\n",
       "}\n",
       ".show-type {\n",
       "color: green;\n",
       "font-weight: bold;\n",
       "font-family: monospace;\n",
       "margin-left: 1em;\n",
       "}\n",
       ".mono {\n",
       "font-family: monospace;\n",
       "display: block;\n",
       "}\n",
       ".err-msg {\n",
       "color: red;\n",
       "font-style: italic;\n",
       "font-family: monospace;\n",
       "white-space: pre;\n",
       "display: block;\n",
       "}\n",
       "#unshowable {\n",
       "color: red;\n",
       "font-weight: bold;\n",
       "}\n",
       ".err-msg.in.collapse {\n",
       "padding-top: 0.7em;\n",
       "}\n",
       ".highlight-code {\n",
       "white-space: pre;\n",
       "font-family: monospace;\n",
       "}\n",
       ".suggestion-warning { \n",
       "font-weight: bold;\n",
       "color: rgb(200, 130, 0);\n",
       "}\n",
       ".suggestion-error { \n",
       "font-weight: bold;\n",
       "color: red;\n",
       "}\n",
       ".suggestion-name {\n",
       "font-weight: bold;\n",
       "}\n",
       "</style><span class='get-type'>substs :: Prop -> [Subst]</span>"
      ],
      "text/plain": [
       "substs :: Prop -> [Subst]"
      ]
     },
     "metadata": {},
     "output_type": "display_data"
    },
    {
     "data": {},
     "metadata": {},
     "output_type": "display_data"
    },
    {
     "data": {
      "text/html": [
       "<div style='background: rgb(247, 247, 247);'><form><textarea id='code'>data Prop = Const Bool | Var Char | Not Prop | And Prop Prop | Imply Prop Prop \t-- Defined at <interactive>:4:1\n",
       "instance [safe] Show Prop -- Defined at <interactive>:10:10\n",
       "</textarea></form></div><script>CodeMirror.fromTextArea(document.getElementById('code'), {mode: 'haskell', readOnly: 'nocursor'});</script>"
      ],
      "text/plain": [
       "data Prop = Const Bool | Var Char | Not Prop | And Prop Prop | Imply Prop Prop \t-- Defined at <interactive>:4:1\n",
       "instance [safe] Show Prop -- Defined at <interactive>:10:10"
      ]
     },
     "metadata": {},
     "output_type": "display_data"
    }
   ],
   "source": [
    ":type substs\n",
    ":info Prop"
   ]
  },
  {
   "cell_type": "code",
   "execution_count": 11,
   "metadata": {},
   "outputs": [
    {
     "data": {},
     "metadata": {},
     "output_type": "display_data"
    },
    {
     "data": {
      "text/html": [
       "<div style='background: rgb(247, 247, 247);'><form><textarea id='code'>type Subst = Assoc Char Bool \t-- Defined at <interactive>:17:1\n",
       "</textarea></form></div><script>CodeMirror.fromTextArea(document.getElementById('code'), {mode: 'haskell', readOnly: 'nocursor'});</script>"
      ],
      "text/plain": [
       "type Subst = Assoc Char Bool \t-- Defined at <interactive>:17:1"
      ]
     },
     "metadata": {},
     "output_type": "display_data"
    }
   ],
   "source": [
    ":info Subst"
   ]
  },
  {
   "cell_type": "code",
   "execution_count": null,
   "metadata": {},
   "outputs": [],
   "source": []
  }
 ],
 "metadata": {
  "kernelspec": {
   "display_name": "Haskell",
   "language": "haskell",
   "name": "haskell"
  },
  "language_info": {
   "codemirror_mode": "Haskell",
   "file_extension": ".hs",
   "mimetype": "text/x-haskell",
   "name": "haskell",
   "pygments_lexer": "Haskell",
   "version": "8.8.4"
  }
 },
 "nbformat": 4,
 "nbformat_minor": 4
}
